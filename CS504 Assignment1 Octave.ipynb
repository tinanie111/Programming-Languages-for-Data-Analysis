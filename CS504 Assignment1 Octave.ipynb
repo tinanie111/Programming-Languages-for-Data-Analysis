{
 "cells": [
  {
   "cell_type": "code",
   "execution_count": 5,
   "metadata": {},
   "outputs": [],
   "source": [
    "pkg load control\n",
    "pkg load plot\n",
    "pkg load gnuplot\n",
    "graphics_toolkit (\"gnuplot\");"
   ]
  },
  {
   "cell_type": "code",
   "execution_count": 6,
   "metadata": {},
   "outputs": [
    {
     "name": "stdout",
     "output_type": "stream",
     "text": [
      "A =\r\n",
      "\r\n",
      "        0\r\n",
      "   0.0027\r\n",
      "   0.0082\r\n",
      "   0.0164\r\n",
      "   0.0271\r\n",
      "   0.0405\r\n",
      "   0.0562\r\n",
      "   0.0743\r\n",
      "   0.0946\r\n",
      "   0.1169\r\n",
      "   0.1411\r\n",
      "   0.1670\r\n",
      "   0.1944\r\n",
      "   0.2231\r\n",
      "   0.2529\r\n",
      "   0.2836\r\n",
      "   0.3150\r\n",
      "   0.3469\r\n",
      "   0.3791\r\n",
      "   0.4114\r\n",
      "   0.4437\r\n",
      "   0.4757\r\n",
      "   0.5073\r\n",
      "   0.5383\r\n",
      "   0.5687\r\n",
      "   0.5982\r\n",
      "   0.6269\r\n",
      "   0.6545\r\n",
      "   0.6810\r\n",
      "   0.7063\r\n",
      "   0.7305\r\n",
      "   0.7533\r\n",
      "   0.7750\r\n",
      "   0.7953\r\n",
      "   0.8144\r\n",
      "   0.8322\r\n",
      "   0.8487\r\n",
      "   0.8641\r\n",
      "   0.8782\r\n",
      "   0.8912\r\n",
      "   0.9032\r\n",
      "   0.9140\r\n",
      "   0.9239\r\n",
      "   0.9329\r\n",
      "   0.9410\r\n",
      "   0.9483\r\n",
      "   0.9548\r\n",
      "   0.9606\r\n",
      "   0.9658\r\n",
      "   0.9704\r\n",
      "   0.9744\r\n",
      "   0.9780\r\n",
      "   0.9811\r\n",
      "   0.9839\r\n",
      "   0.9863\r\n",
      "   0.9883\r\n",
      "   0.9901\r\n",
      "   0.9917\r\n",
      "   0.9930\r\n",
      "   0.9941\r\n",
      "   0.9951\r\n",
      "   0.9959\r\n",
      "   0.9966\r\n",
      "   0.9972\r\n",
      "   0.9977\r\n",
      "   0.9981\r\n",
      "   0.9984\r\n",
      "   0.9987\r\n",
      "   0.9990\r\n",
      "   0.9992\r\n",
      "   0.9993\r\n",
      "   0.9995\r\n",
      "   0.9996\r\n",
      "   0.9996\r\n",
      "   0.9997\r\n",
      "   0.9998\r\n",
      "   0.9998\r\n",
      "   0.9999\r\n",
      "   0.9999\r\n",
      "   0.9999\r\n",
      "\r\n"
     ]
    }
   ],
   "source": [
    "#Implementation of the equation\n",
    "a = 1;\n",
    "A = zeros(1,80);\n",
    "for i = 1:80\n",
    "    a = a*(366-i)/365;\n",
    "#Append rates of the number of people into a matrix\n",
    "    A(1,i) = 1-a;\n",
    "endfor\n",
    "A = transpose(A);\n",
    "A"
   ]
  },
  {
   "cell_type": "code",
   "execution_count": 7,
   "metadata": {},
   "outputs": [],
   "source": [
    "setenv(\"GNUTERM\",\"X11\")"
   ]
  },
  {
   "cell_type": "code",
   "execution_count": 8,
   "metadata": {},
   "outputs": [
    {
     "data": {
      "image/png": "[encoded data removed]",
      "text/plain": [
       "<IPython.core.display.Image object>"
      ]
     },
     "metadata": {},
     "output_type": "display_data"
    }
   ],
   "source": [
    "plot (A)"
   ]
  },
  {
   "cell_type": "code",
   "execution_count": null,
   "metadata": {},
   "outputs": [],
   "source": []
  },
  {
   "cell_type": "code",
   "execution_count": null,
   "metadata": {},
   "outputs": [],
   "source": []
  }
 ],
 "metadata": {
  "kernelspec": {
   "display_name": "Octave",
   "language": "octave",
   "name": "octave"
  },
  "language_info": {
   "file_extension": ".m",
   "help_links": [
    {
     "text": "GNU Octave",
     "url": "https://www.gnu.org/software/octave/support.html"
    },
    {
     "text": "Octave Kernel",
     "url": "https://github.com/Calysto/octave_kernel"
    },
    {
     "text": "MetaKernel Magics",
     "url": "https://metakernel.readthedocs.io/en/latest/source/README.html"
    }
   ],
   "mimetype": "text/x-octave",
   "name": "octave",
   "version": "6.1.0"
  }
 },
 "nbformat": 4,
 "nbformat_minor": 4
}
