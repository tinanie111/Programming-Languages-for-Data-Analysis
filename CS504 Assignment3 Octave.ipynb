{
 "cells": [
  {
   "cell_type": "code",
   "execution_count": 1,
   "metadata": {},
   "outputs": [],
   "source": [
    "pkg load statistics\n",
    "pkg load control"
   ]
  },
  {
   "cell_type": "code",
   "execution_count": 2,
   "metadata": {},
   "outputs": [],
   "source": [
    "muRange = 51:0.02:55;\n",
    "N = 100;\n",
    "n = 20;\n",
    "mu0 = 53;\n",
    "sigma = 1.2;\n",
    "powerT = size(1,length(muRange));\n",
    "powerU = size(1,length(muRange));\n",
    "index = 1;"
   ]
  },
  {
   "cell_type": "code",
   "execution_count": 3,
   "metadata": {},
   "outputs": [],
   "source": [
    "for muActual = muRange\n",
    "    dist = normrnd(muActual,sigma,[1,100]);\n",
    "    rejectT = 0;\n",
    "    rejectU = 0;\n",
    "    for i =1:N\n",
    "        data = randsample(dist,n);\n",
    "        xBar = mean(data);\n",
    "        stdDev = std(data);\n",
    "        tStatT = (xBar - mu0)/(stdDev/sqrt(n));\n",
    "        pValT = (1-tcdf (abs(tStatT), n-1))*2;\n",
    "        if pValT< 0.05\n",
    "            rejectT = rejectT+1;\n",
    "        endif\n",
    "        \n",
    "        xPositive = 0;\n",
    "        for j = data\n",
    "            if j > mu0\n",
    "                xPositive = xPositive +1;\n",
    "            endif\n",
    "        endfor\n",
    "        uStat = max(xPositive, n-xPositive);\n",
    "        pValSign = 2*binopdf(uStat,n,0.5);\n",
    "        if pValSign< 0.05\n",
    "            rejectU = rejectU+1;\n",
    "        endif\n",
    "\n",
    "     endfor\n",
    "     powerT(1,index) = rejectT/N;\n",
    "     powerU(1,index) = rejectU/N;\n",
    "     index = index+1;\n",
    "endfor"
   ]
  },
  {
   "cell_type": "code",
   "execution_count": 5,
   "metadata": {},
   "outputs": [
    {
     "data": {
      "image/png": "[encoded data removed]",
      "text/plain": [
       "<IPython.core.display.Image object>"
      ]
     },
     "metadata": {},
     "output_type": "display_data"
    }
   ],
   "source": [
    "graphics_toolkit (\"gnuplot\");\n",
    "plot(muRange,powerT,'LineWidth',4,muRange,powerU,'LineWidth',4);\n",
    "h = legend({'T Test','S Test'});\n",
    "set (h, \"fontsize\", 14);\n",
    "title('{\\fontsize{30} Power of the T-test vs. power of the sign-test}')\n",
    "axis([51 55 0 1])\n",
    "xlabel('{\\fontsize{25} Different values of muActual}');\n",
    "ylabel('{\\fontsize{25} probability}');\n",
    "hold off;"
   ]
  },
  {
   "cell_type": "code",
   "execution_count": null,
   "metadata": {},
   "outputs": [],
   "source": []
  }
 ],
 "metadata": {
  "kernelspec": {
   "display_name": "Octave",
   "language": "octave",
   "name": "octave"
  },
  "language_info": {
   "file_extension": ".m",
   "help_links": [
    {
     "text": "GNU Octave",
     "url": "https://www.gnu.org/software/octave/support.html"
    },
    {
     "text": "Octave Kernel",
     "url": "https://github.com/Calysto/octave_kernel"
    },
    {
     "text": "MetaKernel Magics",
     "url": "https://metakernel.readthedocs.io/en/latest/source/README.html"
    }
   ],
   "mimetype": "text/x-octave",
   "name": "octave",
   "version": "6.1.0"
  }
 },
 "nbformat": 4,
 "nbformat_minor": 4
}
