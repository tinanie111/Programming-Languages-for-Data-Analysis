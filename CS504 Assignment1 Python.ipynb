{
 "cells": [
  {
   "cell_type": "code",
   "execution_count": 1,
   "metadata": {},
   "outputs": [],
   "source": [
    "from math import factorial \n",
    "import matplotlib.pyplot as plt\n",
    "import numpy as np"
   ]
  },
  {
   "cell_type": "code",
   "execution_count": 2,
   "metadata": {},
   "outputs": [],
   "source": [
    "def factorialfunction(i):\n",
    "    if 365-i >= 1:\n",
    "        # implement the equation\n",
    "        return 1-factorial(365)/factorial(365-i)/365**i"
   ]
  },
  {
   "cell_type": "code",
   "execution_count": 3,
   "metadata": {},
   "outputs": [],
   "source": [
    "def probabilitylist(n):\n",
    "    probabilitylist = []\n",
    "    for i in range(n):\n",
    "        probabilitylist.append(factorialfunction(i))\n",
    "    return probabilitylist"
   ]
  },
  {
   "cell_type": "code",
   "execution_count": 6,
   "metadata": {},
   "outputs": [
    {
     "data": {
      "text/plain": [
       "[0.0,\n",
       " 0.0,\n",
       " 0.002739726027397249,\n",
       " 0.008204165884781345,\n",
       " 0.016355912466550326,\n",
       " 0.02713557369979358,\n",
       " 0.040462483649111536,\n",
       " 0.056235703095975365,\n",
       " 0.07433529235166902,\n",
       " 0.09462383388916673,\n",
       " 0.11694817771107757,\n",
       " 0.141141378321733,\n",
       " 0.16702478883806438,\n",
       " 0.19441027523242949,\n",
       " 0.22310251200497289,\n",
       " 0.25290131976368646,\n",
       " 0.2836040052528499,\n",
       " 0.31500766529656066,\n",
       " 0.34691141787178936,\n",
       " 0.37911852603153673,\n",
       " 0.41143838358058005,\n",
       " 0.4436883351652058,\n",
       " 0.4756953076625501,\n",
       " 0.5072972343239854,\n",
       " 0.5383442579145288,\n",
       " 0.5686997039694639,\n",
       " 0.598240820135939,\n",
       " 0.626859282263242,\n",
       " 0.6544614723423994,\n",
       " 0.680968537477777,\n",
       " 0.7063162427192686,\n",
       " 0.7304546337286438,\n",
       " 0.7533475278503207,\n",
       " 0.774971854175772,\n",
       " 0.7953168646201543,\n",
       " 0.8143832388747152,\n",
       " 0.8321821063798795,\n",
       " 0.8487340082163846,\n",
       " 0.8640678210821209,\n",
       " 0.878219664366722,\n",
       " 0.891231809817949,\n",
       " 0.9031516114817354,\n",
       " 0.9140304715618692,\n",
       " 0.9239228556561199,\n",
       " 0.9328853685514263,\n",
       " 0.940975899465775,\n",
       " 0.9482528433672547,\n",
       " 0.9547744028332994,\n",
       " 0.9605979728794224,\n",
       " 0.9657796093226765,\n",
       " 0.9703735795779884,\n",
       " 0.9744319933344283,\n",
       " 0.9780045093342753,\n",
       " 0.9811381134839128,\n",
       " 0.9838769627588515,\n",
       " 0.9862622888164461,\n",
       " 0.9883323548852008,\n",
       " 0.9901224593411699,\n",
       " 0.9916649793892612,\n",
       " 0.992989448417817,\n",
       " 0.994122660865348,\n",
       " 0.9950887988052908,\n",
       " 0.9959095748953655,\n",
       " 0.9966043868309472,\n",
       " 0.9971904789669755,\n",
       " 0.9976831073124921,\n",
       " 0.9980957046404045,\n",
       " 0.9984400429793998,\n",
       " 0.9987263912544141,\n",
       " 0.9989636663083863,\n",
       " 0.9991595759651571,\n",
       " 0.9993207531773187,\n",
       " 0.9994528806414568,\n",
       " 0.9995608055560187,\n",
       " 0.9996486444448149,\n",
       " 0.9997198781738114,\n",
       " 0.9997774374531652,\n",
       " 0.999823779243739,\n",
       " 0.9998609545813611,\n",
       " 0.9998906683968511,\n",
       " 0.9999143319493135,\n",
       " 0.999933108508368,\n",
       " 0.9999479529215796,\n",
       " 0.9999596456898823,\n",
       " 0.9999688221494433,\n",
       " 0.9999759973260097,\n",
       " 0.9999815869898157,\n",
       " 0.9999859253976947,\n",
       " 0.9999892801659155,\n",
       " 0.9999918646738591,\n",
       " 0.9999938483561236,\n",
       " 0.9999953651998191,\n",
       " 0.9999965207253437,\n",
       " 0.9999973976932023,\n",
       " 0.9999980607467152,\n",
       " 0.9999985601708488,\n",
       " 0.9999989349209019,\n",
       " 0.9999992150512947,\n",
       " 0.9999994236541013,\n",
       " 0.9999995783990275]"
      ]
     },
     "execution_count": 6,
     "metadata": {},
     "output_type": "execute_result"
    }
   ],
   "source": [
    "#Running result\n",
    "probabilitylist(100)"
   ]
  },
  {
   "cell_type": "code",
   "execution_count": 7,
   "metadata": {},
   "outputs": [],
   "source": [
    "def presentplot(n):\n",
    "    plt.plot(probabilitylist(n))\n",
    "    plt.xticks(np.arange(0,n+1,5))\n",
    "    plt.yticks(np.arange(0,1.2,0.1))\n",
    "    plt.grid()\n",
    "    plt.show()"
   ]
  },
  {
   "cell_type": "code",
   "execution_count": 8,
   "metadata": {},
   "outputs": [
    {
     "data": {
      "image/png": "[encoded data removed]",
      "text/plain": [
       "<Figure size 432x288 with 1 Axes>"
      ]
     },
     "metadata": {
      "needs_background": "light"
     },
     "output_type": "display_data"
    }
   ],
   "source": [
    "if __name__==\"__main__\":\n",
    "    n = 100\n",
    "    presentplot(n)"
   ]
  },
  {
   "cell_type": "code",
   "execution_count": null,
   "metadata": {},
   "outputs": [],
   "source": []
  },
  {
   "cell_type": "code",
   "execution_count": null,
   "metadata": {},
   "outputs": [],
   "source": []
  }
 ],
 "metadata": {
  "kernelspec": {
   "display_name": "Python 3",
   "language": "python",
   "name": "python3"
  },
  "language_info": {
   "codemirror_mode": {
    "name": "ipython",
    "version": 3
   },
   "file_extension": ".py",
   "mimetype": "text/x-python",
   "name": "python",
   "nbconvert_exporter": "python",
   "pygments_lexer": "ipython3",
   "version": "3.8.5"
  }
 },
 "nbformat": 4,
 "nbformat_minor": 4
}
