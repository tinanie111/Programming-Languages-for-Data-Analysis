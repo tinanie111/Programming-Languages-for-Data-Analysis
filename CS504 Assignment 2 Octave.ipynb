{
 "cells": [
  {
   "cell_type": "markdown",
   "metadata": {},
   "source": [
    "# CS504  Programming Language in Data Analysis\n",
    "\n",
    "\n",
    "Assignment 2\n",
    "\n",
    "Lin, Junjia 002268506\n",
    "\n",
    "Nie,Luyun 002268087\n",
    "\n",
    "Method 4 Octave"
   ]
  },
  {
   "cell_type": "code",
   "execution_count": 1,
   "metadata": {},
   "outputs": [],
   "source": [
    "pkg load statistics\n",
    "pkg load symbolic"
   ]
  },
  {
   "cell_type": "code",
   "execution_count": 2,
   "metadata": {},
   "outputs": [],
   "source": [
    "%Define the sequence\n",
    "x = [-5:0.01:5];"
   ]
  },
  {
   "cell_type": "markdown",
   "metadata": {},
   "source": [
    "Question 1: Find the difference between two cdf implementations"
   ]
  },
  {
   "cell_type": "code",
   "execution_count": 3,
   "metadata": {},
   "outputs": [
    {
     "name": "stdout",
     "output_type": "stream",
     "text": [
      "1.1102e-16\r\n"
     ]
    }
   ],
   "source": [
    "x1=0.5*(1+erf(x/sqrt(2)));\n",
    "x2=normcdf(x,0,1);\n",
    "x3=max(x1-x2);\n",
    "disp(x3);\n",
    "%maximum difference between two cdf implementations"
   ]
  },
  {
   "cell_type": "markdown",
   "metadata": {},
   "source": [
    "Answer: the difference between two cdf implementations are extremly small that we can consider these two methods are the same."
   ]
  },
  {
   "cell_type": "markdown",
   "metadata": {},
   "source": [
    "Question 2: Plot the first and the second derivative"
   ]
  },
  {
   "cell_type": "code",
   "execution_count": 4,
   "metadata": {},
   "outputs": [],
   "source": [
    "%define PDF, derivative and second derivative\n",
    "f=normpdf(x,0,1);\n",
    "df= diff (f)/0.01;\n",
    "dff= diff(df)/0.01;"
   ]
  },
  {
   "cell_type": "code",
   "execution_count": 5,
   "metadata": {},
   "outputs": [
    {
     "name": "stdout",
     "output_type": "stream",
     "text": [
      "a1 = 2002\n",
      "a2 = 2000\n",
      "a3 = 1998\n"
     ]
    }
   ],
   "source": [
    "% check the length of f df and dff\n",
    "n=2*length(f);\n",
    "a1=n\n",
    "n=2*length(df);\n",
    "a2=n\n",
    "n=2*length(dff);\n",
    "a3=n"
   ]
  },
  {
   "cell_type": "code",
   "execution_count": 7,
   "metadata": {},
   "outputs": [
    {
     "data": {
      "image/png": "[encoded data removed]",
      "text/plain": [
       "<IPython.core.display.Image object>"
      ]
     },
     "metadata": {},
     "output_type": "display_data"
    }
   ],
   "source": [
    "graphics_toolkit (\"gnuplot\");\n",
    "x1=[-4.99:0.01:5];\n",
    "x2=[-4.99:0.01:4.99];\n",
    "plot(x,f,'LineWidth',4,x1,df,'LineWidth',4,x2,dff,'LineWidth',4);\n",
    "h = legend({'PDF','derivative','second derivative'});      \n",
    "set (h, \"fontsize\", 14);\n",
    "title('{\\fontsize{30} PDF and derivative and second derivative}')\n",
    "axis([-5 5 -0.5 0.5])\n",
    "xlabel('{\\fontsize{25} values}');\n",
    "ylabel('{\\fontsize{25} probability}');\n",
    "hold off;\n",
    "%plot the curves"
   ]
  },
  {
   "cell_type": "markdown",
   "metadata": {},
   "source": [
    "Answer: Answer: as you can see above, when x = 0, the first derivative of the normal PDF is also 0. Similarily, when x = -1 or +1, the second derivative is 0 as well."
   ]
  }
 ],
 "metadata": {
  "kernelspec": {
   "display_name": "Octave",
   "language": "octave",
   "name": "octave"
  },
  "language_info": {
   "file_extension": ".m",
   "help_links": [
    {
     "text": "GNU Octave",
     "url": "https://www.gnu.org/software/octave/support.html"
    },
    {
     "text": "Octave Kernel",
     "url": "https://github.com/Calysto/octave_kernel"
    },
    {
     "text": "MetaKernel Magics",
     "url": "https://metakernel.readthedocs.io/en/latest/source/README.html"
    }
   ],
   "mimetype": "text/x-octave",
   "name": "octave",
   "version": "6.1.0"
  }
 },
 "nbformat": 4,
 "nbformat_minor": 4
}
